{
 "cells": [
  {
   "cell_type": "code",
   "execution_count": 1,
   "metadata": {},
   "outputs": [],
   "source": [
    "%load_ext autoreload\n",
    "%autoreload 2"
   ]
  },
  {
   "cell_type": "code",
   "execution_count": 2,
   "metadata": {},
   "outputs": [],
   "source": [
    "from main import *"
   ]
  },
  {
   "cell_type": "code",
   "execution_count": 3,
   "metadata": {},
   "outputs": [
    {
     "name": "stdout",
     "output_type": "stream",
     "text": [
      "3.9.10 | packaged by conda-forge | (main, Feb  1 2022, 21:24:11) \n",
      "[GCC 9.4.0]\n",
      "3.5.1\n",
      "4.67.1\n"
     ]
    }
   ],
   "source": [
    "import sys, matplotlib, tqdm\n",
    "print(sys.version)\n",
    "print(matplotlib.__version__)\n",
    "print(tqdm.__version__)"
   ]
  },
  {
   "cell_type": "code",
   "execution_count": 4,
   "metadata": {},
   "outputs": [],
   "source": [
    "import json\n",
    "\n",
    "with open('gen10000/metadata.json', 'r') as file:\n",
    "    meta = json.load(file)"
   ]
  },
  {
   "cell_type": "code",
   "execution_count": 5,
   "metadata": {
    "scrolled": true
   },
   "outputs": [
    {
     "data": {
      "text/html": [
       "<div>\n",
       "<style scoped>\n",
       "    .dataframe tbody tr th:only-of-type {\n",
       "        vertical-align: middle;\n",
       "    }\n",
       "\n",
       "    .dataframe tbody tr th {\n",
       "        vertical-align: top;\n",
       "    }\n",
       "\n",
       "    .dataframe thead th {\n",
       "        text-align: right;\n",
       "    }\n",
       "</style>\n",
       "<table border=\"1\" class=\"dataframe\">\n",
       "  <thead>\n",
       "    <tr style=\"text-align: right;\">\n",
       "      <th></th>\n",
       "      <th>key</th>\n",
       "      <th>n_generations</th>\n",
       "      <th>n_verified</th>\n",
       "      <th>n_nondegenerate</th>\n",
       "      <th>runtime</th>\n",
       "      <th>rng_difficulties</th>\n",
       "      <th>pso_difficulties</th>\n",
       "    </tr>\n",
       "  </thead>\n",
       "  <tbody>\n",
       "    <tr>\n",
       "      <th>0</th>\n",
       "      <td>007bbfb7</td>\n",
       "      <td>12398</td>\n",
       "      <td>12398</td>\n",
       "      <td>12398</td>\n",
       "      <td>6.904372</td>\n",
       "      <td>10000</td>\n",
       "      <td>10000</td>\n",
       "    </tr>\n",
       "    <tr>\n",
       "      <th>1</th>\n",
       "      <td>017c7c7b</td>\n",
       "      <td>10362</td>\n",
       "      <td>10341</td>\n",
       "      <td>10341</td>\n",
       "      <td>22.083956</td>\n",
       "      <td>10000</td>\n",
       "      <td>10000</td>\n",
       "    </tr>\n",
       "    <tr>\n",
       "      <th>2</th>\n",
       "      <td>045e512c</td>\n",
       "      <td>10005</td>\n",
       "      <td>10005</td>\n",
       "      <td>10000</td>\n",
       "      <td>32.369339</td>\n",
       "      <td>10000</td>\n",
       "      <td>10000</td>\n",
       "    </tr>\n",
       "    <tr>\n",
       "      <th>3</th>\n",
       "      <td>05269061</td>\n",
       "      <td>10353</td>\n",
       "      <td>10353</td>\n",
       "      <td>10047</td>\n",
       "      <td>44.997027</td>\n",
       "      <td>10000</td>\n",
       "      <td>10000</td>\n",
       "    </tr>\n",
       "    <tr>\n",
       "      <th>4</th>\n",
       "      <td>06df4c85</td>\n",
       "      <td>10235</td>\n",
       "      <td>10235</td>\n",
       "      <td>10000</td>\n",
       "      <td>88.332134</td>\n",
       "      <td>10000</td>\n",
       "      <td>10000</td>\n",
       "    </tr>\n",
       "    <tr>\n",
       "      <th>...</th>\n",
       "      <td>...</td>\n",
       "      <td>...</td>\n",
       "      <td>...</td>\n",
       "      <td>...</td>\n",
       "      <td>...</td>\n",
       "      <td>...</td>\n",
       "      <td>...</td>\n",
       "    </tr>\n",
       "    <tr>\n",
       "      <th>395</th>\n",
       "      <td>f8c80d96</td>\n",
       "      <td>10051</td>\n",
       "      <td>10000</td>\n",
       "      <td>10000</td>\n",
       "      <td>48.100908</td>\n",
       "      <td>10000</td>\n",
       "      <td>10000</td>\n",
       "    </tr>\n",
       "    <tr>\n",
       "      <th>396</th>\n",
       "      <td>f9012d9b</td>\n",
       "      <td>10009</td>\n",
       "      <td>10000</td>\n",
       "      <td>10000</td>\n",
       "      <td>1123.923014</td>\n",
       "      <td>10000</td>\n",
       "      <td>10000</td>\n",
       "    </tr>\n",
       "    <tr>\n",
       "      <th>397</th>\n",
       "      <td>fcb5c309</td>\n",
       "      <td>10000</td>\n",
       "      <td>10000</td>\n",
       "      <td>10000</td>\n",
       "      <td>47.351702</td>\n",
       "      <td>10000</td>\n",
       "      <td>10000</td>\n",
       "    </tr>\n",
       "    <tr>\n",
       "      <th>398</th>\n",
       "      <td>feca6190</td>\n",
       "      <td>23735</td>\n",
       "      <td>23735</td>\n",
       "      <td>23735</td>\n",
       "      <td>10.768775</td>\n",
       "      <td>10000</td>\n",
       "      <td>10000</td>\n",
       "    </tr>\n",
       "    <tr>\n",
       "      <th>399</th>\n",
       "      <td>ff805c23</td>\n",
       "      <td>10000</td>\n",
       "      <td>10000</td>\n",
       "      <td>10000</td>\n",
       "      <td>263.672635</td>\n",
       "      <td>10000</td>\n",
       "      <td>10000</td>\n",
       "    </tr>\n",
       "  </tbody>\n",
       "</table>\n",
       "<p>400 rows × 7 columns</p>\n",
       "</div>"
      ],
      "text/plain": [
       "          key  n_generations  n_verified  n_nondegenerate      runtime  \\\n",
       "0    007bbfb7          12398       12398            12398     6.904372   \n",
       "1    017c7c7b          10362       10341            10341    22.083956   \n",
       "2    045e512c          10005       10005            10000    32.369339   \n",
       "3    05269061          10353       10353            10047    44.997027   \n",
       "4    06df4c85          10235       10235            10000    88.332134   \n",
       "..        ...            ...         ...              ...          ...   \n",
       "395  f8c80d96          10051       10000            10000    48.100908   \n",
       "396  f9012d9b          10009       10000            10000  1123.923014   \n",
       "397  fcb5c309          10000       10000            10000    47.351702   \n",
       "398  feca6190          23735       23735            23735    10.768775   \n",
       "399  ff805c23          10000       10000            10000   263.672635   \n",
       "\n",
       "     rng_difficulties  pso_difficulties  \n",
       "0               10000             10000  \n",
       "1               10000             10000  \n",
       "2               10000             10000  \n",
       "3               10000             10000  \n",
       "4               10000             10000  \n",
       "..                ...               ...  \n",
       "395             10000             10000  \n",
       "396             10000             10000  \n",
       "397             10000             10000  \n",
       "398             10000             10000  \n",
       "399             10000             10000  \n",
       "\n",
       "[400 rows x 7 columns]"
      ]
     },
     "execution_count": 5,
     "metadata": {},
     "output_type": "execute_result"
    }
   ],
   "source": [
    "import pandas as pd\n",
    "meta_data = {'key' : list(meta.keys())}\n",
    "for k in ['n_generations', 'n_verified', 'n_nondegenerate', 'runtime']:\n",
    "    meta_data[k] = [v[k] for _,v in meta.items()]\n",
    "for k in ['rng_difficulties', 'pso_difficulties',]:\n",
    "    meta_data[k] = [len(v[k]) for _,v in meta.items()]\n",
    "\n",
    "df = pd.DataFrame(data=meta_data)\n",
    "df"
   ]
  },
  {
   "cell_type": "code",
   "execution_count": 6,
   "metadata": {
    "scrolled": true
   },
   "outputs": [
    {
     "ename": "FileNotFoundError",
     "evalue": "[Errno 2] No such file or directory: 'arc_original/training/007bbfb7.json'",
     "output_type": "error",
     "traceback": [
      "\u001b[0;31m---------------------------------------------------------------------------\u001b[0m",
      "\u001b[0;31mFileNotFoundError\u001b[0m                         Traceback (most recent call last)",
      "Input \u001b[0;32mIn [6]\u001b[0m, in \u001b[0;36m<module>\u001b[0;34m\u001b[0m\n\u001b[0;32m----> 1\u001b[0m \u001b[43mdemo_dataset\u001b[49m\u001b[43m(\u001b[49m\u001b[43mfolder\u001b[49m\u001b[38;5;241;43m=\u001b[39;49m\u001b[38;5;124;43m'\u001b[39;49m\u001b[38;5;124;43mgen10000\u001b[39;49m\u001b[38;5;124;43m'\u001b[39;49m\u001b[43m,\u001b[49m\u001b[43m \u001b[49m\u001b[43ms\u001b[49m\u001b[38;5;241;43m=\u001b[39;49m\u001b[38;5;241;43m0\u001b[39;49m\u001b[43m,\u001b[49m\u001b[43m \u001b[49m\u001b[43me\u001b[49m\u001b[38;5;241;43m=\u001b[39;49m\u001b[38;5;241;43m20\u001b[39;49m\u001b[43m)\u001b[49m\n",
      "File \u001b[0;32m/scratch/sz4972/DiCoRGI/data_gen/main.py:162\u001b[0m, in \u001b[0;36mdemo_dataset\u001b[0;34m(folder, n, s, e)\u001b[0m\n\u001b[1;32m    160\u001b[0m \u001b[38;5;28;01mif\u001b[39;00m s \u001b[38;5;241m<\u001b[39m\u001b[38;5;241m=\u001b[39m i \u001b[38;5;241m<\u001b[39m e:\n\u001b[1;32m    161\u001b[0m     key \u001b[38;5;241m=\u001b[39m fn[:\u001b[38;5;241m8\u001b[39m]\n\u001b[0;32m--> 162\u001b[0m     \u001b[38;5;28;01mwith\u001b[39;00m \u001b[38;5;28;43mopen\u001b[39;49m\u001b[43m(\u001b[49m\u001b[38;5;124;43mf\u001b[39;49m\u001b[38;5;124;43m'\u001b[39;49m\u001b[38;5;124;43marc_original/training/\u001b[39;49m\u001b[38;5;132;43;01m{\u001b[39;49;00m\u001b[43mkey\u001b[49m\u001b[38;5;132;43;01m}\u001b[39;49;00m\u001b[38;5;124;43m.json\u001b[39;49m\u001b[38;5;124;43m'\u001b[39;49m\u001b[43m,\u001b[49m\u001b[43m \u001b[49m\u001b[38;5;124;43m'\u001b[39;49m\u001b[38;5;124;43mr\u001b[39;49m\u001b[38;5;124;43m'\u001b[39;49m\u001b[43m)\u001b[49m \u001b[38;5;28;01mas\u001b[39;00m fp:\n\u001b[1;32m    163\u001b[0m         original_task \u001b[38;5;241m=\u001b[39m json\u001b[38;5;241m.\u001b[39mload(fp)\n\u001b[1;32m    164\u001b[0m     \u001b[38;5;28;01mwith\u001b[39;00m \u001b[38;5;28mopen\u001b[39m(\u001b[38;5;124mf\u001b[39m\u001b[38;5;124m'\u001b[39m\u001b[38;5;132;01m{\u001b[39;00mfolder\u001b[38;5;132;01m}\u001b[39;00m\u001b[38;5;124m/tasks/\u001b[39m\u001b[38;5;132;01m{\u001b[39;00mkey\u001b[38;5;132;01m}\u001b[39;00m\u001b[38;5;124m.json\u001b[39m\u001b[38;5;124m'\u001b[39m, \u001b[38;5;124m'\u001b[39m\u001b[38;5;124mr\u001b[39m\u001b[38;5;124m'\u001b[39m) \u001b[38;5;28;01mas\u001b[39;00m fp:\n",
      "\u001b[0;31mFileNotFoundError\u001b[0m: [Errno 2] No such file or directory: 'arc_original/training/007bbfb7.json'"
     ]
    }
   ],
   "source": [
    "demo_dataset(folder='gen10000', s=0, e=20)"
   ]
  },
  {
   "cell_type": "code",
   "execution_count": null,
   "metadata": {},
   "outputs": [],
   "source": [
    "evaluate_verifiers_on_original_tasks()"
   ]
  },
  {
   "cell_type": "code",
   "execution_count": null,
   "metadata": {},
   "outputs": [],
   "source": [
    "demo_task('ed36ccf7')"
   ]
  },
  {
   "cell_type": "code",
   "execution_count": null,
   "metadata": {},
   "outputs": [],
   "source": [
    "demo_task('74dd1130')"
   ]
  },
  {
   "cell_type": "code",
   "execution_count": null,
   "metadata": {},
   "outputs": [],
   "source": [
    "demo_task('794b24be')"
   ]
  },
  {
   "cell_type": "code",
   "execution_count": null,
   "metadata": {},
   "outputs": [],
   "source": []
  }
 ],
 "metadata": {
  "kernelspec": {
   "display_name": "Python 3 (ipykernel)",
   "language": "python",
   "name": "python3"
  },
  "language_info": {
   "codemirror_mode": {
    "name": "ipython",
    "version": 3
   },
   "file_extension": ".py",
   "mimetype": "text/x-python",
   "name": "python",
   "nbconvert_exporter": "python",
   "pygments_lexer": "ipython3",
   "version": "3.9.10"
  }
 },
 "nbformat": 4,
 "nbformat_minor": 4
}
